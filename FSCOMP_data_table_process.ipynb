{
 "cells": [
  {
   "cell_type": "code",
   "execution_count": 1,
   "id": "a621d513-69e8-45c2-b66f-486802af2793",
   "metadata": {},
   "outputs": [],
   "source": [
    "import json\n",
    "import pandas as pd"
   ]
  },
  {
   "cell_type": "code",
   "execution_count": 2,
   "id": "20bad19c-324c-4fbb-863e-d688f9f4d4b1",
   "metadata": {},
   "outputs": [],
   "source": [
    "quarter = 'Q2'\n",
    "\n",
    "year = '2024'\n",
    "part = 'part6'\n",
    "data_file_prod = f\"./Listed_Mapping_Prod/{year}/31_listed_{quarter}_{year}_{part}.csv\"\n",
    "# data_file_prod = \"./part7.csv\""
   ]
  },
  {
   "cell_type": "code",
   "execution_count": 3,
   "id": "0537bf58-095a-401f-8a31-35742b132a09",
   "metadata": {},
   "outputs": [],
   "source": [
    "df = pd.read_csv(data_file_prod, encoding='utf-8')"
   ]
  },
  {
   "cell_type": "code",
   "execution_count": 4,
   "id": "9e153253-32f9-40dd-82b8-90e77b9cf3fe",
   "metadata": {},
   "outputs": [
    {
     "data": {
      "text/plain": [
       "1"
      ]
     },
     "execution_count": 4,
     "metadata": {},
     "output_type": "execute_result"
    }
   ],
   "source": [
    "len(df.index)"
   ]
  },
  {
   "cell_type": "code",
   "execution_count": 5,
   "id": "d4d9f790-b3e9-4b50-8594-286c3b58d2c8",
   "metadata": {},
   "outputs": [
    {
     "data": {
      "text/html": [
       "<div>\n",
       "<style scoped>\n",
       "    .dataframe tbody tr th:only-of-type {\n",
       "        vertical-align: middle;\n",
       "    }\n",
       "\n",
       "    .dataframe tbody tr th {\n",
       "        vertical-align: top;\n",
       "    }\n",
       "\n",
       "    .dataframe thead th {\n",
       "        text-align: right;\n",
       "    }\n",
       "</style>\n",
       "<table border=\"1\" class=\"dataframe\">\n",
       "  <thead>\n",
       "    <tr style=\"text-align: right;\">\n",
       "      <th></th>\n",
       "      <th>id</th>\n",
       "      <th>symbol</th>\n",
       "      <th>fscomp_data</th>\n",
       "    </tr>\n",
       "  </thead>\n",
       "  <tbody>\n",
       "    <tr>\n",
       "      <th>0</th>\n",
       "      <td>27249</td>\n",
       "      <td>SCC</td>\n",
       "      <td>{\"taxonomy\": {\"data\": [{\"dmCode\": \"T1\", \"inden...</td>\n",
       "    </tr>\n",
       "  </tbody>\n",
       "</table>\n",
       "</div>"
      ],
      "text/plain": [
       "      id symbol                                        fscomp_data\n",
       "0  27249    SCC  {\"taxonomy\": {\"data\": [{\"dmCode\": \"T1\", \"inden..."
      ]
     },
     "execution_count": 5,
     "metadata": {},
     "output_type": "execute_result"
    }
   ],
   "source": [
    "df.head()"
   ]
  },
  {
   "cell_type": "code",
   "execution_count": 6,
   "id": "2f206ee8-b5a4-4747-87f0-df55bb2c7b37",
   "metadata": {},
   "outputs": [],
   "source": [
    "def is_legit_taxonomy(row) -> bool:\n",
    "    is_legit: bool = False\n",
    "    if (row['equityAccMappingInfos'] is not None and len(row['equityAccMappingInfos']) > 0):\n",
    "        is_legit = True\n",
    "    elif(row['consolidatedMappingInfos'] is not None and len(row['consolidatedMappingInfos']) > 0):\n",
    "        is_legit = True\n",
    "    elif(row['equityPreviousMappingInfos'] is not None and len(row['equityPreviousMappingInfos']) > 0):\n",
    "        is_legit = True\n",
    "    elif(row['unconsolidatedMappingInfos'] is not None and len(row['unconsolidatedMappingInfos']) > 0):\n",
    "        is_legit = True\n",
    "    elif(row['consolidatedAccMappingInfos'] is not None and len(row['consolidatedAccMappingInfos']) > 0):\n",
    "        is_legit = True\n",
    "    elif(row['equityAccPreviousMappingInfos'] is not None and len(row['equityAccPreviousMappingInfos']) > 0):\n",
    "        is_legit = True\n",
    "    elif(row['unconsolidatedAccMappingInfos'] is not None and len(row['unconsolidatedAccMappingInfos']) > 0):\n",
    "        is_legit = True\n",
    "    elif(row['consolidatedPreviousMappingInfos'] is not None and len(row['consolidatedPreviousMappingInfos']) > 0):\n",
    "        is_legit = True\n",
    "    elif(row['unconsolidatedPreviousMappingInfos'] is not None and len(row['unconsolidatedPreviousMappingInfos']) > 0):\n",
    "        is_legit = True\n",
    "    elif(row['consolidatedAccPreviousMappingInfos'] is not None and len(row['consolidatedAccPreviousMappingInfos']) > 0):\n",
    "        is_legit = True\n",
    "    elif(row['unconsolidatedAccPreviousMappingInfos'] is not None and len(row['unconsolidatedAccPreviousMappingInfos']) > 0):\n",
    "        is_legit = True\n",
    "    \n",
    "    return is_legit"
   ]
  },
  {
   "cell_type": "code",
   "execution_count": 7,
   "id": "07b3de1c-00f9-45a9-a22e-fb67ce2e9482",
   "metadata": {},
   "outputs": [
    {
     "name": "stdout",
     "output_type": "stream",
     "text": [
      "27249 SCC\n",
      "Processing sheet: 1\n",
      "Processing sheet: 2\n",
      "Processing sheet: 5\n"
     ]
    }
   ],
   "source": [
    "for index, row in df.iterrows():\n",
    "    listed_taxonomy_items = []\n",
    "    \n",
    "    sym = row['symbol']\n",
    "    print(row['id'], sym)\n",
    "    data_json = json.loads(row['fscomp_data'])\n",
    "\n",
    "    raw_output_json = f\"./Listed_Mapping_Prod/{year}/{sym}_{quarter}_{year}_Raw.json\"\n",
    "    with open(raw_output_json, 'w', encoding='utf8') as json_file:\n",
    "        json.dump(data_json, json_file, ensure_ascii=False)\n",
    "    \n",
    "    excel_work_book = data_json['excelWorkBook']\n",
    "    for sheet in excel_work_book['sheets']:\n",
    "        if (\"noUse\" in sheet and sheet['noUse'] == False and sheet['rows'] != None):\n",
    "            sheet_name = sheet['name']\n",
    "            print(f\"Processing sheet: {sheet_name}\")\n",
    "            for row in sheet['rows']:\n",
    "                if (is_legit_taxonomy(row)):\n",
    "                    # print(row['mergedRowName'])\n",
    "                    val_list = []\n",
    "                    for col in row['cols']:\n",
    "                        val_list.append(col['display'])\n",
    "                    val_list.pop(0)\n",
    "    \n",
    "                    taxonomy_account_name = \"\"\n",
    "                    account_code = \"\"\n",
    "                    parent_account_code = \"\"\n",
    "\n",
    "                    if(row['consolidatedMappingInfos'] is not None and len(row['consolidatedMappingInfos']) > 0):\n",
    "                        infos = row['consolidatedMappingInfos']\n",
    "                        taxonomy_account_name = infos[0]['nameTh']\n",
    "                        account_code = infos[0]['accountCode']\n",
    "                        if (len(infos[0]['parents']) > 0):\n",
    "                            parent_account_code = infos[0]['parents'][0]['accountCode']\n",
    "                    elif(row['unconsolidatedMappingInfos'] is not None and len(row['unconsolidatedMappingInfos']) > 0):\n",
    "                        infos = row['unconsolidatedMappingInfos']\n",
    "                        taxonomy_account_name = infos[0]['nameTh']\n",
    "                        account_code = infos[0]['accountCode']\n",
    "                        if (len(infos[0]['parents']) > 0):\n",
    "                            parent_account_code = infos[0]['parents'][0]['accountCode']\n",
    "                    elif (row['consolidatedAccMappingInfos'] is not None and len(row['consolidatedAccMappingInfos']) > 0):\n",
    "                        infos = row['consolidatedAccMappingInfos']\n",
    "                        taxonomy_account_name = infos[0]['nameTh']\n",
    "                        account_code = infos[0]['accountCode']\n",
    "                        if (len(infos[0]['parents']) > 0):\n",
    "                            parent_account_code = infos[0]['parents'][0]['accountCode']\n",
    "                    elif (row['unconsolidatedAccMappingInfos'] is not None and len(row['unconsolidatedAccMappingInfos']) > 0):\n",
    "                        infos = row['unconsolidatedAccMappingInfos']\n",
    "                        taxonomy_account_name = infos[0]['nameTh']\n",
    "                        account_code = infos[0]['accountCode']\n",
    "                        if (len(infos[0]['parents']) > 0):\n",
    "                            parent_account_code = infos[0]['parents'][0]['accountCode']\n",
    "    \n",
    "                    item = {\n",
    "                        \"account_name\": row['mergedRowName'],\n",
    "                        \"taxonomy_account_name\": taxonomy_account_name,\n",
    "                        \"account_code\": account_code,\n",
    "                        \"parent_account_code\": parent_account_code,\n",
    "                        \"values\": str(val_list),\n",
    "                    }\n",
    "                    # if (item[\"account_name\"] != item[\"taxonomy_account_name\"]):\n",
    "                    #     print(item)\n",
    "                        \n",
    "                    listed_taxonomy_items.append(item)\n",
    "                    # print(\"\\n\\n\")\n",
    "    \n",
    "\n",
    "    csv_output_name = f\"./Listed_Mapping_Prod/{year}/{sym}_{quarter}_{year}.csv\"\n",
    "    data_output_name = f\"./Listed_Mapping_Prod/{year}/{sym}_{quarter}_{year}.json\"\n",
    "    \n",
    "    with open(data_output_name, 'w', encoding='utf8') as json_file:\n",
    "        json.dump(listed_taxonomy_items, json_file, ensure_ascii=False)\n",
    "\n",
    "    with open(data_output_name, encoding='utf-8') as inputfile:\n",
    "        df = pd.read_json(inputfile)\n",
    "        df.to_csv(csv_output_name, encoding='utf-8', index=False)"
   ]
  },
  {
   "cell_type": "markdown",
   "id": "a708e330-491e-4f89-96d6-f890773a05b8",
   "metadata": {},
   "source": [
    "---"
   ]
  },
  {
   "cell_type": "markdown",
   "id": "cf73e45e-405f-4df4-92f6-b672dac80546",
   "metadata": {},
   "source": [
    "---"
   ]
  },
  {
   "cell_type": "markdown",
   "id": "e127c746-8071-4672-9826-0e626d77e9be",
   "metadata": {},
   "source": [
    "---"
   ]
  },
  {
   "cell_type": "code",
   "execution_count": 8,
   "id": "74420a44-1feb-4fca-b658-c7673f5876c2",
   "metadata": {},
   "outputs": [],
   "source": [
    "# file_path = \"./file.json\"\n",
    "# data_json = []\n",
    "# with open(file_path, 'r') as f:\n",
    "#     data_json = json.load(f)"
   ]
  },
  {
   "cell_type": "code",
   "execution_count": 9,
   "id": "e1607006-192d-4719-986f-d53ae3c1c756",
   "metadata": {},
   "outputs": [],
   "source": [
    "# print(type(data_json))"
   ]
  },
  {
   "cell_type": "code",
   "execution_count": 10,
   "id": "1843d115-d269-47d3-8fba-0ef57d9b9c3d",
   "metadata": {},
   "outputs": [],
   "source": [
    "# excel_work_book = data_json['excelWorkBook']"
   ]
  },
  {
   "cell_type": "code",
   "execution_count": 11,
   "id": "ad8ef568-496f-4dcd-b1cf-d64a29287636",
   "metadata": {},
   "outputs": [],
   "source": [
    "# def get_key(mappingTypes):\n",
    "#     all_keys = []\n",
    "#     for mappingType in mappingTypes:\n",
    "#         all_keys.append(mappingType + \"MappingInfos\")\n",
    "#         # all_keys.append(mappingType + \"PreviousMappingInfos\")\n",
    "#     return all_keys"
   ]
  },
  {
   "cell_type": "code",
   "execution_count": null,
   "id": "daa07679-530c-4391-bb95-ab976d14c561",
   "metadata": {},
   "outputs": [],
   "source": []
  },
  {
   "cell_type": "code",
   "execution_count": null,
   "id": "a4abb7b3-6c2d-4b0d-927f-788660520dfc",
   "metadata": {},
   "outputs": [],
   "source": [
    "\n"
   ]
  },
  {
   "cell_type": "code",
   "execution_count": 12,
   "id": "1454963d-5707-432d-96f5-8f8332faac5b",
   "metadata": {},
   "outputs": [],
   "source": [
    "# data_output_name = \"./samart_q1_2024.json\"\n",
    "\n",
    "# with open(data_output_name, 'w', encoding='utf8') as json_file:\n",
    "#     json.dump(listed_taxonomy_items, json_file, ensure_ascii=False)"
   ]
  },
  {
   "cell_type": "code",
   "execution_count": 13,
   "id": "99790d82-d463-407d-9c88-feae11b09b6a",
   "metadata": {},
   "outputs": [],
   "source": [
    "# with open(data_output_name, encoding='utf-8') as inputfile:\n",
    "#     df = pd.read_json(inputfile)\n",
    "\n",
    "# csv_output_name = \"./samart_q1_2024.csv\"\n",
    "# df.to_csv(csv_output_name, encoding='utf-8', index=False)"
   ]
  }
 ],
 "metadata": {
  "kernelspec": {
   "display_name": "Python 3 (ipykernel)",
   "language": "python",
   "name": "python3"
  },
  "language_info": {
   "codemirror_mode": {
    "name": "ipython",
    "version": 3
   },
   "file_extension": ".py",
   "mimetype": "text/x-python",
   "name": "python",
   "nbconvert_exporter": "python",
   "pygments_lexer": "ipython3",
   "version": "3.11.7"
  }
 },
 "nbformat": 4,
 "nbformat_minor": 5
}

{
 "cells": [
  {
   "cell_type": "code",
   "execution_count": 1,
   "id": "16df0038-3cb8-4ed2-a0a5-f9f8cdd1cdb6",
   "metadata": {},
   "outputs": [],
   "source": [
    "import pandas as pd"
   ]
  },
  {
   "cell_type": "code",
   "execution_count": 2,
   "id": "6937304d-8dde-4b86-ae7d-93bfc6e86319",
   "metadata": {},
   "outputs": [],
   "source": [
    "# ai_result_path = \"./AI_Mapping_Result/V3/1_BAY_mapping_result_V3_rev6.csv\"\n",
    "ai_result_path = \"./AI_Mapping_Result/V4/1_BAY_mapping_result_V4_rev1.csv\"\n",
    "prod_result_path = \"./Listed_Mapping_Prod/2024/BAY_Q2_2024.csv\""
   ]
  },
  {
   "cell_type": "code",
   "execution_count": 3,
   "id": "858e8e11-e423-4386-b71f-a4c724659d49",
   "metadata": {},
   "outputs": [],
   "source": [
    "th_month = [\n",
    "    'มกราคม', \n",
    "    'กุมภาพันธ์', \n",
    "    'มีนาคม',\n",
    "    'เมษายน',\n",
    "    'พฤษภาคม',\n",
    "    'มิถุนายน',\n",
    "    'กรกฎาคม',\n",
    "    'สิงหาคม',\n",
    "    'กันยายน',\n",
    "    'ตุลาคม',\n",
    "    'พฤศจิกายน',\n",
    "    'ธันวาคม',\n",
    "]\n",
    "\n",
    "th_month_short = [\n",
    "    'ม.ค.', \n",
    "    'ก.พ.', \n",
    "    'มี.ค.',\n",
    "    'เม.ย.',\n",
    "    'พ.ค.',\n",
    "    'มิ.ย.',\n",
    "    'ก.ค.',\n",
    "    'ส.ค.',\n",
    "    'ก.ย.',\n",
    "    'ต.ค.',\n",
    "    'พ.ย.',\n",
    "    'ธ.ค.',\n",
    "]"
   ]
  },
  {
   "cell_type": "code",
   "execution_count": 10,
   "id": "e31c8cca-85b3-43d3-8465-747777eea00a",
   "metadata": {},
   "outputs": [],
   "source": [
    "def replace_comma(name):\n",
    "    return name.replace(\",\", \"\")\n",
    "\n",
    "def replace_month(name):\n",
    "    for month in th_month:\n",
    "        if (month in name):\n",
    "            name = name.replace(month, \"\")\n",
    "\n",
    "    for month in th_month_short:\n",
    "        if (month in name):\n",
    "            name = name.replace(month, \"\")\n",
    "    return name"
   ]
  },
  {
   "cell_type": "code",
   "execution_count": 11,
   "id": "bf4b1bfa-bc7f-4cf3-b36c-374cef54e50a",
   "metadata": {},
   "outputs": [
    {
     "data": {
      "text/plain": [
       "'ทุนเรือนหุ้นทุนจดทะเบียนหุ้นสามัญหุ้นมูลค่าหุ้นละบาท'"
      ]
     },
     "execution_count": 11,
     "metadata": {},
     "output_type": "execute_result"
    }
   ],
   "source": [
    "dtype = {\n",
    "    'query': 'string',\n",
    "    'set_code': 'string'\n",
    "}\n",
    "\n",
    "ai_df = pd.read_csv(ai_result_path, encoding='utf-8', dtype=dtype)\n",
    "\n",
    "ai_df_query = ai_df['query']\n",
    "ai_df_query.replace(to_replace=' ', value='', regex=True, inplace=True)\n",
    "ai_df_query.replace(to_replace=r'[0-9]', value='', regex=True, inplace=True)\n",
    "ai_df['query'] = ai_df_query\n",
    "\n",
    "ai_df_query = ai_df['query']\n",
    "for index, row in ai_df_query.items():\n",
    "    if (pd.isna(row)):\n",
    "        continue\n",
    "    name = row\n",
    "    name_replace = replace_month(name)\n",
    "    name_replace = replace_comma(name_replace)\n",
    "    ai_df['query'].iloc[index] = name_replace\n",
    "\n",
    "ai_df.iloc[20]['query']"
   ]
  },
  {
   "cell_type": "code",
   "execution_count": 16,
   "id": "0116ddf7-7ce3-4c2a-9455-84fe6f0f51d5",
   "metadata": {},
   "outputs": [
    {
     "data": {
      "text/plain": [
       "account_name                      ทุนจดทะเบียนหุ้นสามัญหุ้นมูลค่าหุ้นละบาท\n",
       "taxonomy_account_name    ทุนจดทะเบียนหุ้นสามัญ{{number}}หุ้นมูลค่าหุ้นล...\n",
       "account_code                                                        310120\n",
       "parent_account_code                                                 310100\n",
       "values                                        ['75,741,437', '75,741,437']\n",
       "Name: 22, dtype: object"
      ]
     },
     "execution_count": 16,
     "metadata": {},
     "output_type": "execute_result"
    }
   ],
   "source": [
    "dtype = {\n",
    "    'account_name': 'string',\n",
    "    'account_code': 'string',\n",
    "    'parent_account_code': 'string',\n",
    "}\n",
    "\n",
    "prod_df = pd.read_csv(prod_result_path, encoding='utf-8', dtype=dtype)\n",
    "prod_acc_name = prod_df['account_name']\n",
    "prod_acc_name.replace(to_replace=r'\\{{\\w+\\}}', value='', regex=True, inplace=True)\n",
    "prod_df['account_name'] = prod_acc_name\n",
    "prod_df.iloc[22]"
   ]
  },
  {
   "cell_type": "code",
   "execution_count": 20,
   "id": "15fb06c3-ac2a-4f2c-97a0-8147d5b69afd",
   "metadata": {},
   "outputs": [
    {
     "name": "stdout",
     "output_type": "stream",
     "text": [
      "Not found 209999 in AI mapping\n",
      "Not found 309999 in AI mapping\n",
      "Not found 430700 in AI mapping\n",
      "Not found 430700 in AI mapping\n",
      "Not found 510400 in AI mapping\n",
      "Not found 510800 in AI mapping\n",
      "Not found 512300 in AI mapping\n",
      "Not found 514800 in AI mapping\n",
      "Not found 512000 in AI mapping\n",
      "Not found 514710 in AI mapping\n",
      "Not found 518300 in AI mapping\n"
     ]
    }
   ],
   "source": [
    "compared_list = []\n",
    "\n",
    "for index, row in prod_df.iterrows():\n",
    "    prod_taxo_name = row['taxonomy_account_name']\n",
    "    prod_acc_code = row['account_code']\n",
    "    prod_parent_acc_code = row['parent_account_code']\n",
    "    prod_acc_name = row['account_name']\n",
    "    prod_values = row['values']\n",
    "    # print(prod_acc_name)\n",
    "    \n",
    "    ai_row = ai_df[(ai_df['set_code'] == prod_acc_code) | (ai_df['set_code'] == prod_parent_acc_code)]\n",
    "    # ai_row = ai_df[(ai_df['query'] == prod_acc_name) & ((ai_df['set_code'] == prod_acc_code) | (ai_df['set_code'] == prod_parent_acc_code))]\n",
    "    # print(len(ai_row.index))\n",
    "\n",
    "    select_index = None\n",
    "    for i, r in ai_row.iterrows():\n",
    "        if (prod_acc_name in r['query']):\n",
    "            select_index = i\n",
    "            break\n",
    "    \n",
    "    # print(select_index)\n",
    "    # if (len(ai_row.index) > 1):\n",
    "    #     print(prod_acc_name)\n",
    "    #     print(len(ai_row.index))\n",
    "    #     print()\n",
    "\n",
    "    ai_acc_code = \"\"\n",
    "    ai_acc_name = \"\"\n",
    "    if (len(ai_row.index) > 0 and select_index is not None):\n",
    "        ai_acc_code = ai_df['set_code'].iloc[select_index]\n",
    "        ai_acc_name = ai_df['query'].iloc[select_index]\n",
    "    else:\n",
    "        print(f\"Not found {prod_acc_code} in AI mapping\")\n",
    "    \n",
    "\n",
    "    compare_item = {\n",
    "        \"taxonomy_account_name\": prod_taxo_name,\n",
    "        \"ai_account_code\": ai_acc_code,\n",
    "        \"ai_acc_name\": ai_acc_name,\n",
    "        \"prod_account_name\": prod_acc_name,\n",
    "        \"prod_account_code\": prod_acc_code,\n",
    "        \"prod_parent_account_code\": prod_parent_acc_code,\n",
    "        \"is_match\": str(ai_acc_code) == str(prod_acc_code),\n",
    "        \"is_match_parent\": str(ai_acc_code) == str(prod_parent_acc_code)\n",
    "    }\n",
    "\n",
    "    # print(compare_item)\n",
    "    # print(compare_item['taxonomy_account_name'], compare_item['ai_account_code'], compare_item['ai_acc_name'], compare_item['prod_account_name'], compare_item['prod_account_code'], compare_item['is_match'])\n",
    "    compared_list.append(compare_item)\n"
   ]
  },
  {
   "cell_type": "code",
   "execution_count": null,
   "id": "67cdce37-8e20-4d4b-be36-d50b6f71bdd7",
   "metadata": {},
   "outputs": [],
   "source": []
  },
  {
   "cell_type": "code",
   "execution_count": 22,
   "id": "ccedf2eb-4761-41b0-b381-bf9136e78a15",
   "metadata": {},
   "outputs": [
    {
     "name": "stdout",
     "output_type": "stream",
     "text": [
      "Match Parent\n",
      "{'taxonomy_account_name': 'สินทรัพย์ทางการเงินที่วัดมูลค่าด้วยมูลค่ายุติธรรมผ่านกำไรหรือขาดทุน', 'ai_account_code': '100600', 'ai_acc_name': 'สินทรัพย์ทางการเงินที่วัดมูลค่าด้วยมูลค่ายุติธรรมผ่านกำไรหรือขาดทุน', 'prod_account_name': 'สินทรัพย์ทางการเงินที่วัดมูลค่าด้วยมูลค่ายุติธรรมผ่านกำไรหรือขาดทุน', 'prod_account_code': '100690', 'prod_parent_account_code': '100600', 'is_match': False, 'is_match_parent': True}\n",
      "\n",
      "\n",
      "Match Parent\n",
      "{'taxonomy_account_name': 'ตราสารหนี้ที่ออกและเงินกู้ยืม', 'ai_account_code': '202000', 'ai_acc_name': 'ตราสารหนี้ที่ออกและเงินกู้ยืม', 'prod_account_name': 'ตราสารหนี้ที่ออกและเงินกู้ยืม', 'prod_account_code': '202090', 'prod_parent_account_code': '202000', 'is_match': False, 'is_match_parent': True}\n",
      "\n",
      "\n",
      "Not Match accode or name with AI\n",
      "{'taxonomy_account_name': 'รวมหนี้สิน', 'ai_account_code': '', 'ai_acc_name': '', 'prod_account_name': 'รวมหนี้สิน', 'prod_account_code': '209999', 'prod_parent_account_code': '309999', 'is_match': False, 'is_match_parent': False}\n",
      "\n",
      "\n",
      "Match Parent\n",
      "{'taxonomy_account_name': 'องค์ประกอบอื่นของส่วนของเจ้าของ', 'ai_account_code': '319900', 'ai_acc_name': 'องค์ประกอบอื่นของส่วนของเจ้าของ', 'prod_account_name': 'องค์ประกอบอื่นของส่วนของเจ้าของ', 'prod_account_code': '319990', 'prod_parent_account_code': '319900', 'is_match': False, 'is_match_parent': True}\n",
      "\n",
      "\n",
      "Match Parent\n",
      "{'taxonomy_account_name': 'รวมส่วนของเจ้าของ', 'ai_account_code': '309999', 'ai_acc_name': 'รวมส่วนของเจ้าของ', 'prod_account_name': 'รวมส่วนของเจ้าของ', 'prod_account_code': '309998', 'prod_parent_account_code': '309999', 'is_match': False, 'is_match_parent': True}\n",
      "\n",
      "\n",
      "Not Match accode or name with AI\n",
      "{'taxonomy_account_name': 'รวมหนี้สินและส่วนของเจ้าของ', 'ai_account_code': '', 'ai_acc_name': '', 'prod_account_name': 'รวมหนี้สินและส่วนของเจ้าของ', 'prod_account_code': '309999', 'prod_parent_account_code': <NA>, 'is_match': False, 'is_match_parent': False}\n",
      "\n",
      "\n",
      "Not Match accode or name with AI\n",
      "{'taxonomy_account_name': 'หนี้สูญรับคืน', 'ai_account_code': '', 'ai_acc_name': '', 'prod_account_name': 'หนี้สูญรับคืน', 'prod_account_code': '430700', 'prod_parent_account_code': '409994', 'is_match': False, 'is_match_parent': False}\n",
      "\n",
      "\n",
      "Match Parent\n",
      "{'taxonomy_account_name': 'ผลขาดทุนด้านเครดิตที่คาดว่าจะเกิดขึ้น', 'ai_account_code': '409994', 'ai_acc_name': 'ผลขาดทุนด้านเครดิตที่คาดว่าจะเกิดขึ้น', 'prod_account_name': 'ผลขาดทุนด้านเครดิตที่คาดว่าจะเกิดขึ้น', 'prod_account_code': '430700', 'prod_parent_account_code': '409994', 'is_match': False, 'is_match_parent': True}\n",
      "\n",
      "\n",
      "Not Match accode or name with AI\n",
      "{'taxonomy_account_name': 'หนี้สูญรับคืน', 'ai_account_code': '', 'ai_acc_name': '', 'prod_account_name': 'หนี้สูญรับคืน', 'prod_account_code': '430700', 'prod_parent_account_code': '409994', 'is_match': False, 'is_match_parent': False}\n",
      "\n",
      "\n",
      "Match Parent\n",
      "{'taxonomy_account_name': 'ผลขาดทุนด้านเครดิตที่คาดว่าจะเกิดขึ้น', 'ai_account_code': '409994', 'ai_acc_name': 'ผลขาดทุนด้านเครดิตที่คาดว่าจะเกิดขึ้น', 'prod_account_name': 'ผลขาดทุนด้านเครดิตที่คาดว่าจะเกิดขึ้น', 'prod_account_code': '430700', 'prod_parent_account_code': '409994', 'is_match': False, 'is_match_parent': True}\n",
      "\n",
      "\n",
      "Not Match accode or name with AI\n",
      "{'taxonomy_account_name': 'ผลขาดทุนด้านเครดิตที่คาดว่าจะเกิดขึ้น', 'ai_account_code': '', 'ai_acc_name': '', 'prod_account_name': 'ผลขาดทุนด้านเครดิตที่คาดว่าจะเกิดขึ้น', 'prod_account_code': '510400', 'prod_parent_account_code': '519997', 'is_match': False, 'is_match_parent': False}\n",
      "\n",
      "\n",
      "Not Match accode or name with AI\n",
      "{'taxonomy_account_name': '(กําไร) ขาดทุนจากการแปลงค่าเงินตราต่างประเทศ', 'ai_account_code': '', 'ai_acc_name': '', 'prod_account_name': 'ขาดทุนจากการแปลงค่าเงินตราต่างประเทศ', 'prod_account_code': '510800', 'prod_parent_account_code': '519997', 'is_match': False, 'is_match_parent': False}\n",
      "\n",
      "\n",
      "Not Match accode or name with AI\n",
      "{'taxonomy_account_name': 'ขาดทุนจากเงินลงทุน', 'ai_account_code': '', 'ai_acc_name': '', 'prod_account_name': 'ขาดทุนจากเงินลงทุน', 'prod_account_code': '512300', 'prod_parent_account_code': '519997', 'is_match': False, 'is_match_parent': False}\n",
      "\n",
      "\n",
      "Not Match accode or name with AI\n",
      "{'taxonomy_account_name': 'ส่วนเกินมูลค่าเงินทุนในตราสารหนี้ตัดจำหน่าย', 'ai_account_code': '', 'ai_acc_name': '', 'prod_account_name': 'ส่วนเกินมูลค่าเงินทุนในตราสารหนี้ตัดจำหน่าย', 'prod_account_code': '514800', 'prod_parent_account_code': '514500', 'is_match': False, 'is_match_parent': False}\n",
      "\n",
      "\n",
      "Not Match accode or name with AI\n",
      "{'taxonomy_account_name': 'ขาดทุนจากการด้อยค่าของทรัพย์สินรอการขาย', 'ai_account_code': '', 'ai_acc_name': '', 'prod_account_name': 'ขาดทุนจากการด้อยค่าของทรัพย์สินรอการขาย', 'prod_account_code': '512000', 'prod_parent_account_code': '519997', 'is_match': False, 'is_match_parent': False}\n",
      "\n",
      "\n",
      "Not Match accode or name with AI\n",
      "{'taxonomy_account_name': 'รายได้จากเงินปันผล', 'ai_account_code': '', 'ai_acc_name': '', 'prod_account_name': 'รายได้จากเงินปันผล', 'prod_account_code': '514710', 'prod_parent_account_code': '519997', 'is_match': False, 'is_match_parent': False}\n",
      "\n",
      "\n",
      "Not Match accode or name with AI\n",
      "{'taxonomy_account_name': 'ค่าใช้จ่ายค้างจ่ายอื่นลดลง', 'ai_account_code': '', 'ai_acc_name': '', 'prod_account_name': 'ค่าใช้จ่ายค้างจ่ายอื่นลดลง', 'prod_account_code': '518300', 'prod_parent_account_code': '519998', 'is_match': False, 'is_match_parent': False}\n",
      "\n",
      "\n",
      "Match Parent\n",
      "{'taxonomy_account_name': 'ผลกระทบของการเปลี่ยนแปลงในอัตราแลกเปลี่ยนที่มีต่อเงินสด', 'ai_account_code': '599999', 'ai_acc_name': 'ผลกระทบของการเปลี่ยนแปลงในอัตราแลกเปลี่ยนที่มีต่อเงินสด', 'prod_account_name': 'ผลกระทบของการเปลี่ยนแปลงในอัตราแลกเปลี่ยนที่มีต่อเงินสด', 'prod_account_code': '540100', 'prod_parent_account_code': '599999', 'is_match': False, 'is_match_parent': True}\n",
      "\n",
      "\n",
      "Total Unmatch: 18\n"
     ]
    }
   ],
   "source": [
    "count_unmatch = 0\n",
    "count_match_parent = 0\n",
    "for item in compared_list:\n",
    "    if (item['is_match'] == False):\n",
    "        if (item['is_match_parent'] == True):\n",
    "            count_match_parent += 1\n",
    "            print(\"Match Parent\")\n",
    "        if (item['ai_account_code'] == \"\" and item['ai_acc_name'] == \"\"):\n",
    "            print(\"Not Match accode or name with AI\")\n",
    "        count_unmatch += 1\n",
    "        print(item)\n",
    "        print(\"\\n\")\n",
    "\n",
    "print(f\"Total Unmatch: {count_unmatch}\")"
   ]
  },
  {
   "cell_type": "code",
   "execution_count": 19,
   "id": "a7503fe7-6b14-43b8-8a9e-0ba58e350cff",
   "metadata": {},
   "outputs": [
    {
     "name": "stdout",
     "output_type": "stream",
     "text": [
      "209999\n",
      "309999\n",
      "430700\n",
      "430700\n",
      "510400\n",
      "510800\n",
      "512300\n",
      "514800\n",
      "512000\n",
      "514710\n",
      "518300\n",
      "No Code From AI: 11\n"
     ]
    }
   ],
   "source": [
    "no_code_count = 0\n",
    "for item in compared_list:\n",
    "    if (item['is_match'] == False):\n",
    "        if (item['ai_account_code'] == ''):\n",
    "            no_code_count += 1\n",
    "            print(item['prod_account_code'])\n",
    "\n",
    "print(f\"No Code From AI: {no_code_count}\")"
   ]
  },
  {
   "cell_type": "code",
   "execution_count": null,
   "id": "6cd489a8-ef59-4a0d-ac8c-d32556f6face",
   "metadata": {},
   "outputs": [],
   "source": []
  }
 ],
 "metadata": {
  "kernelspec": {
   "display_name": "Python 3 (ipykernel)",
   "language": "python",
   "name": "python3"
  },
  "language_info": {
   "codemirror_mode": {
    "name": "ipython",
    "version": 3
   },
   "file_extension": ".py",
   "mimetype": "text/x-python",
   "name": "python",
   "nbconvert_exporter": "python",
   "pygments_lexer": "ipython3",
   "version": "3.11.7"
  }
 },
 "nbformat": 4,
 "nbformat_minor": 5
}
